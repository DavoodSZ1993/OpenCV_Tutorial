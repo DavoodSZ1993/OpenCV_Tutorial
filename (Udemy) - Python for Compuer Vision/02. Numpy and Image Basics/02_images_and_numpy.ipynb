{
  "nbformat": 4,
  "nbformat_minor": 0,
  "metadata": {
    "colab": {
      "provenance": [],
      "authorship_tag": "ABX9TyNVuVtRJ4sSpCsEopn8oxZM",
      "include_colab_link": true
    },
    "kernelspec": {
      "name": "python3",
      "display_name": "Python 3"
    },
    "language_info": {
      "name": "python"
    }
  },
  "cells": [
    {
      "cell_type": "markdown",
      "metadata": {
        "id": "view-in-github",
        "colab_type": "text"
      },
      "source": [
        "<a href=\"https://colab.research.google.com/github/DavoodSZ1993/OpenCV_Tutorial/blob/main/02_images_and_numpy.ipynb\" target=\"_parent\"><img src=\"https://colab.research.google.com/assets/colab-badge.svg\" alt=\"Open In Colab\"/></a>"
      ]
    },
    {
      "cell_type": "code",
      "execution_count": 1,
      "metadata": {
        "id": "FhF9w3Kr3ZMK"
      },
      "outputs": [],
      "source": [
        "%matplotlib inline\n",
        "import matplotlib.pyplot as plt\n",
        "import numpy as np"
      ]
    },
    {
      "cell_type": "markdown",
      "source": [
        "* The Python Imaging Library (PIL) adds image processing capabilities to the Python interpreter.\n",
        "* `Image` Module provides a class with the same name which is used to represent a PIL image. The Module also provides a number of factory functions, including functions to load images from files, and to create new images."
      ],
      "metadata": {
        "id": "mS7yzDtUKZhg"
      }
    },
    {
      "cell_type": "code",
      "source": [
        "from PIL import Image"
      ],
      "metadata": {
        "id": "m3eDKMM4I6ZI"
      },
      "execution_count": 2,
      "outputs": []
    },
    {
      "cell_type": "markdown",
      "source": [
        "* `PIL.Image.open(fp)`: Opens and Identifies the given image file.\n",
        "* `fp`: A file name (string), pathlib.Path object or a file object."
      ],
      "metadata": {
        "id": "b98hEgWVNJta"
      }
    },
    {
      "cell_type": "code",
      "source": [
        "pic = Image.open('00-puppy.jpg')"
      ],
      "metadata": {
        "id": "IApLQFWwJAOC"
      },
      "execution_count": 3,
      "outputs": []
    },
    {
      "cell_type": "code",
      "source": [
        "type(pic)"
      ],
      "metadata": {
        "colab": {
          "base_uri": "https://localhost:8080/"
        },
        "id": "wB36ICoLJMq5",
        "outputId": "3d2dff14-fd11-4a3b-d35b-fa449a45d762"
      },
      "execution_count": 4,
      "outputs": [
        {
          "output_type": "execute_result",
          "data": {
            "text/plain": [
              "PIL.JpegImagePlugin.JpegImageFile"
            ]
          },
          "metadata": {},
          "execution_count": 4
        }
      ]
    },
    {
      "cell_type": "markdown",
      "source": [
        "* `np.asarray(a)`: Covert the input to an array."
      ],
      "metadata": {
        "id": "02Xu_2oEOwa1"
      }
    },
    {
      "cell_type": "code",
      "source": [
        "pic_arr = np.asarray(pic)\n",
        "\n",
        "type(pic_arr), pic_arr.shape"
      ],
      "metadata": {
        "colab": {
          "base_uri": "https://localhost:8080/"
        },
        "id": "bLA7gt5yJgCX",
        "outputId": "95b13b10-2ddc-44ca-d183-07b284c492a0"
      },
      "execution_count": 5,
      "outputs": [
        {
          "output_type": "execute_result",
          "data": {
            "text/plain": [
              "(numpy.ndarray, (1300, 1950, 3))"
            ]
          },
          "metadata": {},
          "execution_count": 5
        }
      ]
    },
    {
      "cell_type": "markdown",
      "source": [
        "* `plt.imshow(x, cmap=None)`: Display data as an image, i.e., on a 2D regular raster.\n",
        "* **cmap: str or colormap, default: `rcParams[\"image.cmap\"]`(default: `'rividis'`)**"
      ],
      "metadata": {
        "id": "e9Zt7XL4PWcG"
      }
    },
    {
      "cell_type": "code",
      "source": [
        "plt.imshow(pic_arr)"
      ],
      "metadata": {
        "id": "jYxrc1CEJndW"
      },
      "execution_count": null,
      "outputs": []
    },
    {
      "cell_type": "code",
      "source": [
        "pic_red = pic_arr.copy()\n",
        "plt.imshow(pic_red)"
      ],
      "metadata": {
        "id": "_mS0TuFNUMIf"
      },
      "execution_count": null,
      "outputs": []
    },
    {
      "cell_type": "code",
      "source": [
        "# R G B\n",
        "plt.imshow(pic_red[:, :, 0])"
      ],
      "metadata": {
        "id": "pu8ZwofmUjYl"
      },
      "execution_count": null,
      "outputs": []
    },
    {
      "cell_type": "code",
      "source": [
        "# Red channel values: 0 - 255\n",
        "plt.imshow(pic_red[:, :, 0], cmap='gray')"
      ],
      "metadata": {
        "id": "3HxycALmUzLa"
      },
      "execution_count": null,
      "outputs": []
    },
    {
      "cell_type": "code",
      "source": [
        "# Green Channel\n",
        "plt.imshow(pic_red[:, :, 1], cmap='gray')"
      ],
      "metadata": {
        "id": "v_uEODVN5qKn"
      },
      "execution_count": null,
      "outputs": []
    },
    {
      "cell_type": "code",
      "source": [
        "# Blue Channel\n",
        "plt.imshow(pic_red[:, :, 2], cmap='gray')"
      ],
      "metadata": {
        "id": "ciVjczNz5vTU"
      },
      "execution_count": null,
      "outputs": []
    },
    {
      "cell_type": "code",
      "source": [
        "pic_red[:, :, 1] = 0\n",
        "plt.imshow(pic_red, cmap='gray')"
      ],
      "metadata": {
        "id": "4XrR7OWb5_ft"
      },
      "execution_count": null,
      "outputs": []
    }
  ]
}
