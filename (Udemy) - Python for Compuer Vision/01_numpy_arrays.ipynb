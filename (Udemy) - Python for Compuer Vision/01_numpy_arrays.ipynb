{
  "nbformat": 4,
  "nbformat_minor": 0,
  "metadata": {
    "colab": {
      "provenance": [],
      "authorship_tag": "ABX9TyOl9XdcrdBmPxu7qz3EnrMa",
      "include_colab_link": true
    },
    "kernelspec": {
      "name": "python3",
      "display_name": "Python 3"
    },
    "language_info": {
      "name": "python"
    }
  },
  "cells": [
    {
      "cell_type": "markdown",
      "metadata": {
        "id": "view-in-github",
        "colab_type": "text"
      },
      "source": [
        "<a href=\"https://colab.research.google.com/github/DavoodSZ1993/OpenCV_Tutorial/blob/main/01_numpy_arrays.ipynb\" target=\"_parent\"><img src=\"https://colab.research.google.com/assets/colab-badge.svg\" alt=\"Open In Colab\"/></a>"
      ]
    },
    {
      "cell_type": "code",
      "execution_count": 1,
      "metadata": {
        "id": "hpv-OEZ8yULG"
      },
      "outputs": [],
      "source": [
        "import numpy as np"
      ]
    },
    {
      "cell_type": "code",
      "source": [
        "my_list = [1, 2, 3]\n",
        "type(my_list)"
      ],
      "metadata": {
        "colab": {
          "base_uri": "https://localhost:8080/"
        },
        "id": "17ZvocnByfHx",
        "outputId": "503ff029-5585-4e55-fe14-81342aa54408"
      },
      "execution_count": 2,
      "outputs": [
        {
          "output_type": "execute_result",
          "data": {
            "text/plain": [
              "list"
            ]
          },
          "metadata": {},
          "execution_count": 2
        }
      ]
    },
    {
      "cell_type": "markdown",
      "source": [
        "* `np.array()`: creates an array"
      ],
      "metadata": {
        "id": "KQzC4Dvi0R1O"
      }
    },
    {
      "cell_type": "code",
      "source": [
        "my_list = np.array(my_list)\n",
        "type(my_list)"
      ],
      "metadata": {
        "colab": {
          "base_uri": "https://localhost:8080/"
        },
        "id": "pKGbfVCvyo1Z",
        "outputId": "e9e6a29d-25a9-4c80-bbec-b180348c969d"
      },
      "execution_count": 3,
      "outputs": [
        {
          "output_type": "execute_result",
          "data": {
            "text/plain": [
              "numpy.ndarray"
            ]
          },
          "metadata": {},
          "execution_count": 3
        }
      ]
    },
    {
      "cell_type": "markdown",
      "source": [
        "* `numpy.arange(start, end, step)`: Return evenly spaced values within a given interval."
      ],
      "metadata": {
        "id": "8uwsf9d-Fy3I"
      }
    },
    {
      "cell_type": "code",
      "source": [
        "np.arange(0, 10)"
      ],
      "metadata": {
        "colab": {
          "base_uri": "https://localhost:8080/"
        },
        "id": "OVyIA-TgF-a2",
        "outputId": "02bd1040-6da5-4cfa-95c2-23b749a100ea"
      },
      "execution_count": 4,
      "outputs": [
        {
          "output_type": "execute_result",
          "data": {
            "text/plain": [
              "array([0, 1, 2, 3, 4, 5, 6, 7, 8, 9])"
            ]
          },
          "metadata": {},
          "execution_count": 4
        }
      ]
    },
    {
      "cell_type": "code",
      "source": [
        "np.arange(0, 10, 2)"
      ],
      "metadata": {
        "colab": {
          "base_uri": "https://localhost:8080/"
        },
        "id": "dOeIY6LJGFAL",
        "outputId": "a0e57bd2-3384-4118-a17d-215ac723d4fc"
      },
      "execution_count": 5,
      "outputs": [
        {
          "output_type": "execute_result",
          "data": {
            "text/plain": [
              "array([0, 2, 4, 6, 8])"
            ]
          },
          "metadata": {},
          "execution_count": 5
        }
      ]
    },
    {
      "cell_type": "markdown",
      "source": [
        "* `numpy.zeros(shape)`: Return a new array of given shape and type, filled with zeros."
      ],
      "metadata": {
        "id": "wfu1_RW1GXz2"
      }
    },
    {
      "cell_type": "code",
      "source": [
        "np.zeros(shape=(5, 5))"
      ],
      "metadata": {
        "colab": {
          "base_uri": "https://localhost:8080/"
        },
        "id": "l2Kb4OoGGpie",
        "outputId": "e6b4085d-21f1-4098-b10f-e662249b24f5"
      },
      "execution_count": 6,
      "outputs": [
        {
          "output_type": "execute_result",
          "data": {
            "text/plain": [
              "array([[0., 0., 0., 0., 0.],\n",
              "       [0., 0., 0., 0., 0.],\n",
              "       [0., 0., 0., 0., 0.],\n",
              "       [0., 0., 0., 0., 0.],\n",
              "       [0., 0., 0., 0., 0.]])"
            ]
          },
          "metadata": {},
          "execution_count": 6
        }
      ]
    },
    {
      "cell_type": "markdown",
      "source": [
        "* `numpy.ones(shape)`: Return an array of given shape and type, filled with ones."
      ],
      "metadata": {
        "id": "YI6XLarQH5Io"
      }
    },
    {
      "cell_type": "code",
      "source": [
        "np.ones(shape=(5,5))"
      ],
      "metadata": {
        "colab": {
          "base_uri": "https://localhost:8080/"
        },
        "id": "eOcMwO7-IHJm",
        "outputId": "15a9e00b-2946-4957-ed23-d45249f45d05"
      },
      "execution_count": 7,
      "outputs": [
        {
          "output_type": "execute_result",
          "data": {
            "text/plain": [
              "array([[1., 1., 1., 1., 1.],\n",
              "       [1., 1., 1., 1., 1.],\n",
              "       [1., 1., 1., 1., 1.],\n",
              "       [1., 1., 1., 1., 1.],\n",
              "       [1., 1., 1., 1., 1.]])"
            ]
          },
          "metadata": {},
          "execution_count": 7
        }
      ]
    },
    {
      "cell_type": "markdown",
      "source": [
        "* `np.random.seed(seed=None)`: Reseed the Singleton RandomState instance. In other words, makes random numbers predictable."
      ],
      "metadata": {
        "id": "9gQtDeeBlx2E"
      }
    },
    {
      "cell_type": "code",
      "source": [
        "np.random.seed(0)\n",
        "np.random.rand(4)"
      ],
      "metadata": {
        "colab": {
          "base_uri": "https://localhost:8080/"
        },
        "id": "PerbXgg7mVBt",
        "outputId": "75865e9b-f505-4097-a8c0-f42b2a10e825"
      },
      "execution_count": 8,
      "outputs": [
        {
          "output_type": "execute_result",
          "data": {
            "text/plain": [
              "array([0.5488135 , 0.71518937, 0.60276338, 0.54488318])"
            ]
          },
          "metadata": {},
          "execution_count": 8
        }
      ]
    },
    {
      "cell_type": "code",
      "source": [
        "np.random.seed(0)\n",
        "np.random.rand(4)"
      ],
      "metadata": {
        "colab": {
          "base_uri": "https://localhost:8080/"
        },
        "id": "-vMtJEVtmf-B",
        "outputId": "412e1fca-1ef5-48c9-9383-9a503f969059"
      },
      "execution_count": 9,
      "outputs": [
        {
          "output_type": "execute_result",
          "data": {
            "text/plain": [
              "array([0.5488135 , 0.71518937, 0.60276338, 0.54488318])"
            ]
          },
          "metadata": {},
          "execution_count": 9
        }
      ]
    },
    {
      "cell_type": "markdown",
      "source": [
        "With the seed reset (every time), the same set of numbers will appear every time. If the random seed is not reset, different numbers appear with every invocation. "
      ],
      "metadata": {
        "id": "kr5oe8n5nM3R"
      }
    },
    {
      "cell_type": "code",
      "source": [
        "np.random.rand(4)"
      ],
      "metadata": {
        "colab": {
          "base_uri": "https://localhost:8080/"
        },
        "id": "-4NGiH9nnG4j",
        "outputId": "a9327340-2b70-422a-a461-3a8d0439ba34"
      },
      "execution_count": 10,
      "outputs": [
        {
          "output_type": "execute_result",
          "data": {
            "text/plain": [
              "array([0.4236548 , 0.64589411, 0.43758721, 0.891773  ])"
            ]
          },
          "metadata": {},
          "execution_count": 10
        }
      ]
    },
    {
      "cell_type": "code",
      "source": [
        "np.random.rand(4)"
      ],
      "metadata": {
        "colab": {
          "base_uri": "https://localhost:8080/"
        },
        "id": "9QtrDV12oEAW",
        "outputId": "a3e8fc03-409c-4a50-f151-501619e94e63"
      },
      "execution_count": 11,
      "outputs": [
        {
          "output_type": "execute_result",
          "data": {
            "text/plain": [
              "array([0.96366276, 0.38344152, 0.79172504, 0.52889492])"
            ]
          },
          "metadata": {},
          "execution_count": 11
        }
      ]
    },
    {
      "cell_type": "markdown",
      "source": [
        "* `np.random.rand(shape)`: Create an array of the given shape and populate it with random samples from a uniform distribution over [0, 1].\n",
        "* `np.random.randint(low, high=None, size=None)`: Return random integers from low (inclusive) or high (exclusive)."
      ],
      "metadata": {
        "id": "YdyR1YdnpHqB"
      }
    },
    {
      "cell_type": "code",
      "source": [
        "np.random.seed(101)\n",
        "array = np.random.randint(0, 100, 10)\n",
        "array"
      ],
      "metadata": {
        "colab": {
          "base_uri": "https://localhost:8080/"
        },
        "id": "JOLB4dLtqYpl",
        "outputId": "13c99b67-a391-41cf-f6d5-cf79e92361f2"
      },
      "execution_count": 12,
      "outputs": [
        {
          "output_type": "execute_result",
          "data": {
            "text/plain": [
              "array([95, 11, 81, 70, 63, 87, 75,  9, 77, 40])"
            ]
          },
          "metadata": {},
          "execution_count": 12
        }
      ]
    },
    {
      "cell_type": "markdown",
      "source": [
        "* `np.ndarray.max()`: Return the maximum along the given axis."
      ],
      "metadata": {
        "id": "riBmTcB7rLof"
      }
    },
    {
      "cell_type": "code",
      "source": [
        "array.max()"
      ],
      "metadata": {
        "colab": {
          "base_uri": "https://localhost:8080/"
        },
        "id": "RoOBT5gXrShm",
        "outputId": "c552fd48-0ae8-47ff-9026-0f71af873096"
      },
      "execution_count": 13,
      "outputs": [
        {
          "output_type": "execute_result",
          "data": {
            "text/plain": [
              "95"
            ]
          },
          "metadata": {},
          "execution_count": 13
        }
      ]
    },
    {
      "cell_type": "markdown",
      "source": [
        "* `np.ndarray.argmax()`: Return indices of the maximum values along the given axis. "
      ],
      "metadata": {
        "id": "Mkh-SL1butKP"
      }
    },
    {
      "cell_type": "code",
      "source": [
        "array.argmax()"
      ],
      "metadata": {
        "id": "JXCNSs72u878",
        "outputId": "ab75e88a-30f8-4aba-d523-847ee1022ced",
        "colab": {
          "base_uri": "https://localhost:8080/"
        }
      },
      "execution_count": 14,
      "outputs": [
        {
          "output_type": "execute_result",
          "data": {
            "text/plain": [
              "0"
            ]
          },
          "metadata": {},
          "execution_count": 14
        }
      ]
    },
    {
      "cell_type": "markdown",
      "source": [
        "* `np.ndarray.min()`: Return the minimum along a given axis."
      ],
      "metadata": {
        "id": "5RQ2V8OvvWHs"
      }
    },
    {
      "cell_type": "code",
      "source": [
        "array.min()"
      ],
      "metadata": {
        "id": "ySzIL0yDvfQO",
        "outputId": "1df4d753-de59-4c96-b5b8-928fe3027ce8",
        "colab": {
          "base_uri": "https://localhost:8080/"
        }
      },
      "execution_count": 15,
      "outputs": [
        {
          "output_type": "execute_result",
          "data": {
            "text/plain": [
              "9"
            ]
          },
          "metadata": {},
          "execution_count": 15
        }
      ]
    },
    {
      "cell_type": "markdown",
      "source": [
        "* `np.ndarray.argmin()`: Return indices of the maximum values along the given axis."
      ],
      "metadata": {
        "id": "vcTg68UTvwBd"
      }
    },
    {
      "cell_type": "code",
      "source": [
        "array.argmin()"
      ],
      "metadata": {
        "id": "pHTDYmM6v52c",
        "outputId": "914db80a-33b3-4511-f044-597025f75938",
        "colab": {
          "base_uri": "https://localhost:8080/"
        }
      },
      "execution_count": 16,
      "outputs": [
        {
          "output_type": "execute_result",
          "data": {
            "text/plain": [
              "7"
            ]
          },
          "metadata": {},
          "execution_count": 16
        }
      ]
    },
    {
      "cell_type": "markdown",
      "source": [
        "* `np.ndarray.mean()`: Return the average of the array elements along given axis."
      ],
      "metadata": {
        "id": "A1AiunG4wNQF"
      }
    },
    {
      "cell_type": "code",
      "source": [
        "array.mean()"
      ],
      "metadata": {
        "id": "DuLhAkB1wWeX",
        "outputId": "460609a9-f7b2-4865-a9dd-18dcd818514f",
        "colab": {
          "base_uri": "https://localhost:8080/"
        }
      },
      "execution_count": 17,
      "outputs": [
        {
          "output_type": "execute_result",
          "data": {
            "text/plain": [
              "60.8"
            ]
          },
          "metadata": {},
          "execution_count": 17
        }
      ]
    },
    {
      "cell_type": "markdown",
      "source": [
        "* `np.ndarray.reshape(shape)`: Return an array containing the same data with a new shape."
      ],
      "metadata": {
        "id": "nciart5zxXYP"
      }
    },
    {
      "cell_type": "code",
      "source": [
        "array.reshape((5, 2))"
      ],
      "metadata": {
        "id": "70nloPaaxhpd",
        "outputId": "d60995ab-db47-4692-c686-7ccab41583af",
        "colab": {
          "base_uri": "https://localhost:8080/"
        }
      },
      "execution_count": 18,
      "outputs": [
        {
          "output_type": "execute_result",
          "data": {
            "text/plain": [
              "array([[95, 11],\n",
              "       [81, 70],\n",
              "       [63, 87],\n",
              "       [75,  9],\n",
              "       [77, 40]])"
            ]
          },
          "metadata": {},
          "execution_count": 18
        }
      ]
    },
    {
      "cell_type": "markdown",
      "source": [
        "* `np.ndarray.copy()`: Return a copy of the array"
      ],
      "metadata": {
        "id": "6kHUll-KyfBc"
      }
    }
  ]
}
